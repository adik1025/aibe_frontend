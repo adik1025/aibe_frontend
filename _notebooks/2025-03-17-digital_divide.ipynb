{
 "cells": [
  {
   "cell_type": "raw",
   "metadata": {},
   "source": [
    "---\n",
    "layout: post\n",
    "title: Digital Divide\n",
    "description: A blog about the digital divide.\n",
    "permalink: /posts/digital-divide/\n",
    "comments: true\n",
    "---"
   ]
  }
 ],
 "metadata": {
  "language_info": {
   "name": "python"
  }
 },
 "nbformat": 4,
 "nbformat_minor": 2
}
