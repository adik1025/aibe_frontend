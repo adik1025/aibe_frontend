{
  "cells": [
    {
      "cell_type": "raw",
      "metadata": {
        "vscode": {
          "languageId": "raw"
        }
      },
      "source": [
        "---\n",
        "permalink: /pandas-testing/\n",
        "---"
      ]
    },
    {
      "cell_type": "markdown",
      "metadata": {},
      "source": [
        "## Evaluation of Pavement Condition Assessments Data\n",
        "[Pavement Condition Assessments](https://data.sandiego.gov/datasets/streets-overall-condition-index/)"
      ]
    },
    {
      "cell_type": "code",
      "execution_count": 13,
      "metadata": {
        "colab": {
          "base_uri": "https://localhost:8080/"
        },
        "id": "pHcbe6mfWz2a",
        "outputId": "ce06ae44-de30-4200-c842-79228c35615f"
      },
      "outputs": [
        {
          "name": "stdout",
          "output_type": "stream",
          "text": [
            "           seg_id    pci      pci_desc\n",
            "1   SS-000002-PV1  56.59          Fair\n",
            "2   SS-000003-PV1  80.00  Satisfactory\n",
            "3   SS-000004-PV1  86.40          Good\n",
            "4   SS-000005-PV1  67.86          Fair\n",
            "5   SS-000006-PV1  95.53          Good\n",
            "6   SS-000007-PV1  87.44          Good\n",
            "7   SS-000008-PV1  67.61          Fair\n",
            "8   SS-000009-PV1  89.71          Good\n",
            "9   SS-000010-PV1  70.12  Satisfactory\n",
            "10  SS-000011-PV1  86.65          Good\n",
            "11  SS-000012-PV1  91.41          Good\n",
            "12  SS-000013-PV1  51.16          Poor\n",
            "13  SS-000014-PV1  91.47          Good\n",
            "14  SS-000015-PV1  91.31          Good\n",
            "15  SS-000016-PV1  60.48          Fair\n",
            "16  SS-000018-PV1  57.95          Fair\n",
            "17  SS-000019-PV1  19.88       Serious\n",
            "18  SS-000020-PV1  43.24          Poor\n",
            "19  SS-000021-PV1  50.49          Poor\n",
            "20  SS-000022-PV1  47.70          Poor\n",
            "21  SS-000023-PV1  45.90          Poor\n",
            "22  SS-000024-PV1  92.34          Good\n",
            "23  SS-000025-PV1  88.20          Good\n",
            "24  SS-000026-PV1  12.92       Serious\n",
            "25  SS-000027-PV1  63.64          Fair\n",
            "Average PCI: 66.23\n",
            "\n",
            "5 Best Road Conditions:\n",
            "            seg_id    pci\n",
            "89   SS-000093-PV1  100.0\n",
            "137  SS-000141-PV1  100.0\n",
            "138  SS-000142-PV1  100.0\n",
            "144  SS-000149-PV1  100.0\n",
            "182  SS-000187-PV1  100.0\n",
            "185  SS-000193-PV1  100.0\n",
            "186  SS-000194-PV1  100.0\n",
            "222  SS-000230-PV1  100.0\n",
            "237  SS-000245-PV1  100.0\n",
            "271  SS-000285-PV1  100.0\n",
            "\n",
            "5 Worst Road Conditions:\n",
            "              seg_id   pci\n",
            "1973   SS-002156-PV1  0.00\n",
            "3697   SS-004009-PV1  0.00\n",
            "9295   SS-010155-PV1  0.00\n",
            "14310  SS-015639-PV1  0.00\n",
            "19911  SS-021718-PV1  0.00\n",
            "23384  SS-025527-PV1  0.00\n",
            "25204  SS-027542-PV1  0.00\n",
            "10069  SS-011007-PV1  0.06\n",
            "7419   SS-008141-PV1  0.28\n",
            "2632   SS-002855-PV1  0.33\n"
          ]
        }
      ],
      "source": [
        "import pandas as pd\n",
        "\n",
        "def clean_and_analyze_pavement_data(file_path):\n",
        "    # Load data\n",
        "    data = pd.read_csv(file_path)\n",
        "    \n",
        "    # Drop rows with missing values\n",
        "    data_cleaned = data.dropna().copy()\n",
        "    \n",
        "    # Convert PCI to numeric for analysis\n",
        "    data_cleaned.loc[:, 'pci'] = pd.to_numeric(data_cleaned['pci'], errors='coerce')\n",
        "    \n",
        "    # Display more data\n",
        "    print(data_cleaned.head(25))\n",
        "    \n",
        "    return data_cleaned\n",
        "\n",
        "def calculate_average_pci(data_cleaned):\n",
        "    return data_cleaned['pci'].mean()\n",
        "\n",
        "def display_best_and_worst_conditions(data_cleaned):\n",
        "    # Sort the data by PCI (ascending for worst, descending for best)\n",
        "    best_conditions = data_cleaned.nlargest(10, 'pci')\n",
        "    worst_conditions = data_cleaned.nsmallest(10, 'pci')\n",
        "    \n",
        "    print(\"\\n5 Best Road Conditions:\")\n",
        "    print(best_conditions[['seg_id', 'pci']])\n",
        "    \n",
        "    print(\"\\n5 Worst Road Conditions:\")\n",
        "    print(worst_conditions[['seg_id', 'pci']])\n",
        "\n",
        "# Example usage\n",
        "file_path = \"pavement_condition_assessment_2023_datasd.csv\"\n",
        "data_cleaned = clean_and_analyze_pavement_data(file_path)\n",
        "print(f\"Average PCI: {calculate_average_pci(data_cleaned):.2f}\")\n",
        "display_best_and_worst_conditions(data_cleaned)"
      ]
    },
    {
      "cell_type": "markdown",
      "metadata": {},
      "source": [
        "### Column Descriptions for the Pavement Condition Dataset\n",
        "\n",
        "- **seg_id**: \n",
        "  - *Definition*: Unique identifier for a specific road segment.\n",
        "  - *Meaning*: This column helps in distinguishing between different sections of the road network. Each segment will have a unique `seg_id` to reference its condition and associated repair data.\n",
        "  \n",
        "- **pci**: \n",
        "  - *Definition*: Pavement Condition Index (PCI), a numeric scale (0-100) representing the condition of the pavement.\n",
        "  - *Meaning*: This index is crucial for understanding the health of the road. A higher PCI value indicates better road quality, whereas a lower PCI value reflects significant deterioration. This metric helps in prioritizing roads for maintenance or repair. The PCI is essential for deciding which roads require urgent attention.\n",
        "\n",
        "- **pci_desc**: \n",
        "  - *Definition*: Descriptive rating of the road condition based on PCI.\n",
        "  - *Meaning*: This column provides a verbal description of the pavement's condition, such as \"Excellent,\" \"Good,\" \"Fair,\" or \"Poor.\" It helps contextualize the numeric PCI score by giving a more intuitive understanding of the road's condition.\n",
        "\n",
        "---\n",
        "\n",
        "### Evaluation of the Dataset for Our Project\n",
        "\n",
        "**Why This Dataset Is Good for Our Project:**\n",
        "\n",
        "1. **Predictive Modeling**:\n",
        "   - The `pci` column allows us to forecast the urgency of maintenance needs based on the pavement condition of various road segments. Using historical data on road conditions, we can apply predictive models to estimate when a segment will need repairs or maintenance.\n",
        "\n",
        "2. **Prioritization**:\n",
        "   - The PCI scores are essential for prioritizing road segments. By identifying areas with the lowest PCI values (i.e., worst road conditions), we can generate a ranked list of assets that need immediate attention. This helps allocate resources effectively for repairs.\n",
        "\n",
        "3. **Spatial Analysis**:\n",
        "   - If geographical data (e.g., coordinates) is available, the `seg_id` and `pci` can be linked to spatial analysis. This will help identify clusters of poorly conditioned roads in specific areas, enabling more targeted interventions.\n",
        "\n",
        "4. **Resource Allocation Recommendations**:\n",
        "   - Based on the PCI values, we can suggest which road segments should be prioritized in terms of maintenance crews and budget allocation, which aligns with our project's goal of efficient resource management.\n",
        "\n",
        "---\n",
        "\n",
        "**Why This Dataset Could Be Limiting for Our Project:**\n",
        "\n",
        "1. **Limited Contextual Data**:\n",
        "   - While the dataset provides critical information on road conditions, it lacks contextual factors like traffic volume, weather patterns, and urban zoning, which are crucial for understanding broader maintenance demands. Without this supplementary data, predictions and prioritizations may miss critical environmental influences that affect road degradation.\n",
        "  \n",
        "2. **Lack of Real-Time Data**:\n",
        "   - The dataset does not include real-time updates, such as current repair projects or citizen-reported pothole issues, which could impact the immediate need for repairs. Including more dynamic data sources would provide a more accurate and responsive system for maintenance planning.\n",
        "\n",
        "3. **Potential Data Gaps**:\n",
        "   - If certain road segments are missing from the dataset or have incomplete condition assessments, the analysis could be skewed. Having a more comprehensive and continuously updated dataset would increase the reliability of predictive modeling and prioritization."
      ]
    }
  ],
  "metadata": {
    "colab": {
      "provenance": []
    },
    "kernelspec": {
      "display_name": "venv",
      "language": "python",
      "name": "python3"
    },
    "language_info": {
      "codemirror_mode": {
        "name": "ipython",
        "version": 3
      },
      "file_extension": ".py",
      "mimetype": "text/x-python",
      "name": "python",
      "nbconvert_exporter": "python",
      "pygments_lexer": "ipython3",
      "version": "3.10.12"
    }
  },
  "nbformat": 4,
  "nbformat_minor": 0
}
